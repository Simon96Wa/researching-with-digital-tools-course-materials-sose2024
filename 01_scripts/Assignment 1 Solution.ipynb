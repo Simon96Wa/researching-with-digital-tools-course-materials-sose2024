{
 "cells": [
  {
   "cell_type": "markdown",
   "metadata": {},
   "source": [
    "# Assignment\n",
    "\n",
    "Create an new Jupyter notebook (.ipynb). In this notebook create a variable ```posts``` that contains data about multiple (two) Instagram posts. Each post should have an ```id```, a ```creator```, a ```creator id```, a ```message``` and an ```image```.\n",
    "\n",
    "Use Python lists and dictionaries for doing this. The data values can be freely invented.\n",
    "\n",
    "Tip: Human readability / comprehensibility of source code is often increased if one splits complex commands into a series of simple commands.\n",
    "\n",
    "Once your are done you can check if you found a good solution by transforming your ```posts``` variable into a Pandas Dataframe (which in effect is a table). For doing so use the following code:\n",
    "\n",
    "```\n",
    "import pandas as pd\n",
    "posts_df = pd.json_normalize(posts)\n",
    "```\n",
    "\n",
    "In case you get the error that pandas could not be found run the following command once: \n",
    "\n",
    "```\n",
    "!pip3 install pandas\n",
    "```\n",
    "\n",
    " Please submit a notebook with your solution until Monday evening (8PM) via moodle.\n"
   ]
  },
  {
   "cell_type": "markdown",
   "metadata": {},
   "source": [
    "# Solutions"
   ]
  },
  {
   "cell_type": "code",
   "execution_count": 3,
   "metadata": {},
   "outputs": [],
   "source": [
    "# There are multiple ways to create the list of dictionaries. \n",
    "\n",
    "# Appoach 1: One step definition\n",
    "# Credits: Christian Spengler\n",
    "\n",
    "posts_solution_1 = [\n",
    "    {\n",
    "        \"id\": 1,\n",
    "        \"creator\": 'John',\n",
    "        \"creator id\": 123,\n",
    "        \"message\": 'Beautiful sunset',\n",
    "        \"image\": 'sunset.jpg'\n",
    "    },\n",
    "    {\n",
    "        \"id\": 2,\n",
    "        \"creator\": \"Jane\",\n",
    "        \"creator id\": 456,\n",
    "        \"message\": 'Delicious food!',\n",
    "        \"image\": 'food.jpg'\n",
    "    }\n",
    "]"
   ]
  },
  {
   "cell_type": "code",
   "execution_count": 4,
   "metadata": {},
   "outputs": [],
   "source": [
    "# Approach 2: Multi step definition\n",
    "# Credits: Lea Dickhaus\n",
    "\n",
    "# Define the first post\n",
    "post1 = {\n",
    "    'id': 12345,\n",
    "    'creator': 'Phil',\n",
    "    'creator id': 'TheBestCreator',\n",
    "    'message': 'Hello, I am the best creator!',\n",
    "    'image': 'a new value'\n",
    "}\n",
    "\n",
    "# Define the second post\n",
    "post2 = {\n",
    "    'id': 67891,\n",
    "    'creator': 'Johanna',\n",
    "    'creator id': 'TheWorstCreator',\n",
    "    'message': 'Hello, I am the worst creator!',\n",
    "    'image': 'a new value 2'\n",
    "}\n",
    "\n",
    "# Create the list containing both dictionaries of posts\n",
    "posts_solution_2 = [post1, post2]"
   ]
  },
  {
   "cell_type": "code",
   "execution_count": 5,
   "metadata": {},
   "outputs": [
    {
     "data": {
      "text/html": [
       "<div>\n",
       "<style scoped>\n",
       "    .dataframe tbody tr th:only-of-type {\n",
       "        vertical-align: middle;\n",
       "    }\n",
       "\n",
       "    .dataframe tbody tr th {\n",
       "        vertical-align: top;\n",
       "    }\n",
       "\n",
       "    .dataframe thead th {\n",
       "        text-align: right;\n",
       "    }\n",
       "</style>\n",
       "<table border=\"1\" class=\"dataframe\">\n",
       "  <thead>\n",
       "    <tr style=\"text-align: right;\">\n",
       "      <th></th>\n",
       "      <th>id</th>\n",
       "      <th>creator</th>\n",
       "      <th>creator id</th>\n",
       "      <th>message</th>\n",
       "      <th>image</th>\n",
       "    </tr>\n",
       "  </thead>\n",
       "  <tbody>\n",
       "    <tr>\n",
       "      <th>0</th>\n",
       "      <td>1</td>\n",
       "      <td>John</td>\n",
       "      <td>123</td>\n",
       "      <td>Beautiful sunset</td>\n",
       "      <td>sunset.jpg</td>\n",
       "    </tr>\n",
       "    <tr>\n",
       "      <th>1</th>\n",
       "      <td>2</td>\n",
       "      <td>Jane</td>\n",
       "      <td>456</td>\n",
       "      <td>Delicious food!</td>\n",
       "      <td>food.jpg</td>\n",
       "    </tr>\n",
       "  </tbody>\n",
       "</table>\n",
       "</div>"
      ],
      "text/plain": [
       "   id creator  creator id           message       image\n",
       "0   1    John         123  Beautiful sunset  sunset.jpg\n",
       "1   2    Jane         456   Delicious food!    food.jpg"
      ]
     },
     "execution_count": 5,
     "metadata": {},
     "output_type": "execute_result"
    }
   ],
   "source": [
    "# Now transform the first list of dictionaries into Pandas Dataframe and show the first 3 rows\n",
    "\n",
    "import pandas as pd\n",
    "\n",
    "df_solution_1 = pd.DataFrame(posts_solution_1)\n",
    "df_solution_1.head(3)\n"
   ]
  },
  {
   "cell_type": "code",
   "execution_count": 8,
   "metadata": {},
   "outputs": [
    {
     "data": {
      "text/html": [
       "<div>\n",
       "<style scoped>\n",
       "    .dataframe tbody tr th:only-of-type {\n",
       "        vertical-align: middle;\n",
       "    }\n",
       "\n",
       "    .dataframe tbody tr th {\n",
       "        vertical-align: top;\n",
       "    }\n",
       "\n",
       "    .dataframe thead th {\n",
       "        text-align: right;\n",
       "    }\n",
       "</style>\n",
       "<table border=\"1\" class=\"dataframe\">\n",
       "  <thead>\n",
       "    <tr style=\"text-align: right;\">\n",
       "      <th></th>\n",
       "      <th>id</th>\n",
       "      <th>creator</th>\n",
       "      <th>creator id</th>\n",
       "      <th>message</th>\n",
       "      <th>image</th>\n",
       "    </tr>\n",
       "  </thead>\n",
       "  <tbody>\n",
       "    <tr>\n",
       "      <th>0</th>\n",
       "      <td>12345</td>\n",
       "      <td>Phil</td>\n",
       "      <td>TheBestCreator</td>\n",
       "      <td>Hello, I am the best creator!</td>\n",
       "      <td>a new value</td>\n",
       "    </tr>\n",
       "    <tr>\n",
       "      <th>1</th>\n",
       "      <td>67891</td>\n",
       "      <td>Johanna</td>\n",
       "      <td>TheWorstCreator</td>\n",
       "      <td>Hello, I am the worst creator!</td>\n",
       "      <td>a new value 2</td>\n",
       "    </tr>\n",
       "  </tbody>\n",
       "</table>\n",
       "</div>"
      ],
      "text/plain": [
       "      id  creator       creator id                         message  \\\n",
       "0  12345     Phil   TheBestCreator   Hello, I am the best creator!   \n",
       "1  67891  Johanna  TheWorstCreator  Hello, I am the worst creator!   \n",
       "\n",
       "           image  \n",
       "0    a new value  \n",
       "1  a new value 2  "
      ]
     },
     "execution_count": 8,
     "metadata": {},
     "output_type": "execute_result"
    }
   ],
   "source": [
    "# ransform the second list of dictionaries into Pandas Dataframe and show the first 3 rows\n",
    "# Alternatively use pd.json_normalize\n",
    "\n",
    "df_solution_2 = pd.json_normalize(posts_solution_2)\n",
    "df_solution_2.head(3)"
   ]
  },
  {
   "cell_type": "markdown",
   "metadata": {},
   "source": [
    "## Additional information: Or why its important to remember pd.json_normalize()"
   ]
  },
  {
   "cell_type": "markdown",
   "metadata": {},
   "source": [
    "It is recommended to use ```pd.json_normalize()``` function instead of ``pd.DataFrame()```because json normalize handels nested dictionaries."
   ]
  },
  {
   "cell_type": "code",
   "execution_count": 9,
   "metadata": {},
   "outputs": [],
   "source": [
    "nested_example = [{\n",
    "    'post_id': 12345,\n",
    "    'creator': {\n",
    "        'creator_id': 'TheBestCreator',\n",
    "        'name': 'Phil',\n",
    "        'thumbnail': 'phil.jpg'\n",
    "    },\n",
    "    'message': 'Hello, I am the best creator!',\n",
    "    'image': 'a new value'\n",
    "}]"
   ]
  },
  {
   "cell_type": "code",
   "execution_count": 10,
   "metadata": {},
   "outputs": [
    {
     "data": {
      "text/html": [
       "<div>\n",
       "<style scoped>\n",
       "    .dataframe tbody tr th:only-of-type {\n",
       "        vertical-align: middle;\n",
       "    }\n",
       "\n",
       "    .dataframe tbody tr th {\n",
       "        vertical-align: top;\n",
       "    }\n",
       "\n",
       "    .dataframe thead th {\n",
       "        text-align: right;\n",
       "    }\n",
       "</style>\n",
       "<table border=\"1\" class=\"dataframe\">\n",
       "  <thead>\n",
       "    <tr style=\"text-align: right;\">\n",
       "      <th></th>\n",
       "      <th>post_id</th>\n",
       "      <th>creator</th>\n",
       "      <th>message</th>\n",
       "      <th>image</th>\n",
       "    </tr>\n",
       "  </thead>\n",
       "  <tbody>\n",
       "    <tr>\n",
       "      <th>0</th>\n",
       "      <td>12345</td>\n",
       "      <td>{'creator_id': 'TheBestCreator', 'name': 'Phil...</td>\n",
       "      <td>Hello, I am the best creator!</td>\n",
       "      <td>a new value</td>\n",
       "    </tr>\n",
       "  </tbody>\n",
       "</table>\n",
       "</div>"
      ],
      "text/plain": [
       "   post_id                                            creator  \\\n",
       "0    12345  {'creator_id': 'TheBestCreator', 'name': 'Phil...   \n",
       "\n",
       "                         message        image  \n",
       "0  Hello, I am the best creator!  a new value  "
      ]
     },
     "execution_count": 10,
     "metadata": {},
     "output_type": "execute_result"
    }
   ],
   "source": [
    "pd.DataFrame(nested_example)"
   ]
  },
  {
   "cell_type": "markdown",
   "metadata": {},
   "source": [
    "Above you see in the column creator a dictionary as value. This can be resolved with json_normalize"
   ]
  },
  {
   "cell_type": "code",
   "execution_count": 11,
   "metadata": {},
   "outputs": [
    {
     "data": {
      "text/html": [
       "<div>\n",
       "<style scoped>\n",
       "    .dataframe tbody tr th:only-of-type {\n",
       "        vertical-align: middle;\n",
       "    }\n",
       "\n",
       "    .dataframe tbody tr th {\n",
       "        vertical-align: top;\n",
       "    }\n",
       "\n",
       "    .dataframe thead th {\n",
       "        text-align: right;\n",
       "    }\n",
       "</style>\n",
       "<table border=\"1\" class=\"dataframe\">\n",
       "  <thead>\n",
       "    <tr style=\"text-align: right;\">\n",
       "      <th></th>\n",
       "      <th>post_id</th>\n",
       "      <th>message</th>\n",
       "      <th>image</th>\n",
       "      <th>creator.creator_id</th>\n",
       "      <th>creator.name</th>\n",
       "      <th>creator.thumbnail</th>\n",
       "    </tr>\n",
       "  </thead>\n",
       "  <tbody>\n",
       "    <tr>\n",
       "      <th>0</th>\n",
       "      <td>12345</td>\n",
       "      <td>Hello, I am the best creator!</td>\n",
       "      <td>a new value</td>\n",
       "      <td>TheBestCreator</td>\n",
       "      <td>Phil</td>\n",
       "      <td>phil.jpg</td>\n",
       "    </tr>\n",
       "  </tbody>\n",
       "</table>\n",
       "</div>"
      ],
      "text/plain": [
       "   post_id                        message        image creator.creator_id  \\\n",
       "0    12345  Hello, I am the best creator!  a new value     TheBestCreator   \n",
       "\n",
       "  creator.name creator.thumbnail  \n",
       "0         Phil          phil.jpg  "
      ]
     },
     "execution_count": 11,
     "metadata": {},
     "output_type": "execute_result"
    }
   ],
   "source": [
    "pd.json_normalize(nested_example)"
   ]
  },
  {
   "cell_type": "markdown",
   "metadata": {},
   "source": [
    "The above DataFrame has more columns. All Values contained in creator are now separate columns. Each key is prefixed by its parent key \"creator\" separated by a \".\""
   ]
  }
 ],
 "metadata": {
  "kernelspec": {
   "display_name": "Python 3",
   "language": "python",
   "name": "python3"
  },
  "language_info": {
   "codemirror_mode": {
    "name": "ipython",
    "version": 3
   },
   "file_extension": ".py",
   "mimetype": "text/x-python",
   "name": "python",
   "nbconvert_exporter": "python",
   "pygments_lexer": "ipython3",
   "version": "3.12.3"
  }
 },
 "nbformat": 4,
 "nbformat_minor": 2
}
