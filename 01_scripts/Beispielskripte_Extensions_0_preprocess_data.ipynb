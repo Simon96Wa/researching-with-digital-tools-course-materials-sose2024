{
 "cells": [
  {
   "cell_type": "code",
   "execution_count": null,
   "metadata": {},
   "outputs": [],
   "source": [
    "import re\n",
    "import ast\n",
    "import numpy as np\n",
    "import pandas as pd\n",
    "from glob import glob\n",
    "\n",
    "pd.set_option('display.max_columns', None)"
   ]
  },
  {
   "cell_type": "code",
   "execution_count": null,
   "metadata": {},
   "outputs": [],
   "source": [
    "data = pd.DataFrame()\n",
    "path = '../00_shared_data/Cookie-and-Ads-Extensions/Data/'\n",
    "for fname in glob(path+'*.csv'):\n",
    "    print(f'Number of entries in data: {len(data)}')\n",
    "    print(fname)\n",
    "    data = pd.concat([data, pd.read_csv(fname)], ignore_index=True)\n",
    "print(f'Number of entries in data: {len(data)}')"
   ]
  },
  {
   "cell_type": "code",
   "execution_count": null,
   "metadata": {},
   "outputs": [],
   "source": [
    "# Preprocess data\n",
    "data.drop(columns=['extension-link', 'similars-links-href', 'developer', 'screenshots-src', 'categories-href'], inplace=True)\n",
    "data.rename(columns={'extension-link-href': 'webstore-url', 'developer-href': 'developer', 'rating_count': 'rating-count', 'similars-links': 'similar-extensions', 'logo-src': 'logo'}, inplace=True)\n",
    "data['webstore-url'] = data['webstore-url'].apply(lambda x: x.replace('https://chromewebstore.google.com/detail', ''))\n",
    "\n",
    "# postprocess user-count\n",
    "data['user-count'] = data['user-count'].apply(lambda x: x.replace(',', ''))\n",
    "data['user-count'] = data['user-count'].apply(lambda x: int(re.findall(r'\\d+', x)[0]) if re.findall(r'\\d+', x) else 0)\n",
    "\n",
    "# postprocess rating-count\n",
    "data['rating-count'] = data['rating-count'].apply(lambda x: 0 if x is np.nan else x)\n",
    "data['rating-count'] = data['rating-count'].apply(lambda x: x.replace('ratings', '').replace('rating', '').strip(' ') if type(x) == str else x)\n",
    "data['rating-count'] = data['rating-count'].apply(lambda x: x.replace('.', '').replace('K', '00').strip(' ') if type(x) == str and '.' in x else x)\n",
    "data['rating-count'] = data['rating-count'].apply(lambda x: x.replace('.', '').replace('K', '000').strip(' ') if type(x) == str else x)\n",
    "data['rating-count'] = data['rating-count'].astype(int)\n",
    "\n",
    "# postprocess screenshots\n",
    "data['screenshots'] = data['screenshots'].apply(lambda x: [i['screenshots-src'] for i in ast.literal_eval(x)] if x is not np.nan and x != '[]' else [])\n",
    "data['screenshots_main'] = data['screenshots'].apply(lambda x: x[0] if x else np.nan)\n",
    "\n",
    "# postprocess similar-extensions\n",
    "data['similar-extensions'] = data['similar-extensions'].apply(lambda x: [i['similars-links-href'].replace('./detail', '') for i in ast.literal_eval(x)] if x is not np.nan and x != '[]' else [])\n",
    "\n",
    "# postprocess categories\n",
    "data['categories-links'] = data['categories'].apply(lambda x: [i['categories-href'].lstrip('.') for i in ast.literal_eval(x)] if x is not np.nan and x != '[]' else [])\n",
    "data['categories'] = data['categories'].apply(lambda x: [i['categories'].lstrip('.') for i in ast.literal_eval(x)] if x is not np.nan and x != '[]' else [])\n",
    "\n",
    "print(f'Number of entries before dropping duplicates: {len(data)}')\n",
    "\n",
    "data['query'] = data.groupby('webstore-url')['web-scraper-start-url'].transform(lambda x: ', '.join(x).replace('https://chromewebstore.google.com/search/', ''))\n",
    "data.drop_duplicates('webstore-url', inplace=True)\n",
    "\n",
    "\n",
    "column_order = ['name', 'description', 'webstore-url', 'url', 'url-href', 'categories', 'categories-links', 'similar-extensions', \n",
    "                'featured', 'logo', 'screenshots', 'screenshots_main', 'user-count', 'rating', 'rating-count', 'version', 'last-updated', 'languages', 'size', 'developer', \n",
    "                'offered_by', 'trader-status', 'privacy-notice', 'query', 'web-scraper-order']\n",
    "\n",
    "data = data[column_order]\n",
    "\n",
    "print(f'Number of entries after dropping duplicates: {len(data)}')\n",
    "print()\n",
    "\n",
    "data.head(3)"
   ]
  },
  {
   "cell_type": "code",
   "execution_count": null,
   "metadata": {},
   "outputs": [],
   "source": [
    "# Duplicates by name\n",
    "len(data) - len(data.drop_duplicates('name'))"
   ]
  },
  {
   "cell_type": "code",
   "execution_count": null,
   "metadata": {},
   "outputs": [],
   "source": [
    "data.groupby('name').size().sort_values(ascending=False).head(25)"
   ]
  },
  {
   "cell_type": "code",
   "execution_count": null,
   "metadata": {},
   "outputs": [],
   "source": [
    "fname_processed = '../00_shared_data/Cookie-and-Ads-Extensions/Chrome-Extensions-Cookie-Ads-Consent_preprocessed.csv'\n",
    "data.to_csv(fname_processed, index=False, sep='\\t')"
   ]
  },
  {
   "cell_type": "code",
   "execution_count": null,
   "metadata": {},
   "outputs": [],
   "source": []
  },
  {
   "cell_type": "code",
   "execution_count": null,
   "metadata": {},
   "outputs": [],
   "source": []
  }
 ],
 "metadata": {
  "kernelspec": {
   "display_name": "Python 3",
   "language": "python",
   "name": "python3"
  },
  "language_info": {
   "codemirror_mode": {
    "name": "ipython",
    "version": 3
   },
   "file_extension": ".py",
   "mimetype": "text/x-python",
   "name": "python",
   "nbconvert_exporter": "python",
   "pygments_lexer": "ipython3",
   "version": "3.12.3"
  }
 },
 "nbformat": 4,
 "nbformat_minor": 2
}
