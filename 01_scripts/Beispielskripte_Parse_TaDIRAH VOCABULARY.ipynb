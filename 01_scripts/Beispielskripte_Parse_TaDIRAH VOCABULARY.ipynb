{
 "cells": [
  {
   "cell_type": "code",
   "execution_count": null,
   "metadata": {},
   "outputs": [],
   "source": [
    "from rdflib import Graph, URIRef, Literal, Namespace\n",
    "import pandas as pd"
   ]
  },
  {
   "cell_type": "code",
   "execution_count": null,
   "metadata": {},
   "outputs": [],
   "source": [
    "fi = '../00_shared_data/Tadirah/tadirah.ttl'\n",
    "\n",
    "# load the data\n",
    "g = Graph()\n",
    "g.parse(fi, format='turtle')\n",
    "\n",
    "data = []\n",
    "for s, p, o in g.triples((None, None, None)):\n",
    "    s = s.split('/')[-1]\n",
    "    p = p.split('/')[-1]\n",
    "    p = p.split('#')[-1]\n",
    "    o = o.split('/')[-1]\n",
    "    data.append([s, p, o])\n",
    "\n",
    "df = pd.DataFrame(data, columns=['subject', 'predicate', 'object'])\n",
    "df.head()"
   ]
  },
  {
   "cell_type": "code",
   "execution_count": null,
   "metadata": {},
   "outputs": [],
   "source": [
    "edges = df[df['predicate'] == 'narrower'][['subject', 'object']].rename(columns={'subject': 'Source', 'object': 'Target'})\n",
    "\n",
    "top_edges = df[df['predicate'] == 'hasTopConcept'][['subject', 'object']].rename(columns={'subject': 'Source', 'object': 'Target'})\n",
    "top_edges['Source'] = 'Tadirah'\n",
    "\n",
    "edges = pd.concat([edges, top_edges])\n",
    "edges.head()"
   ]
  },
  {
   "cell_type": "code",
   "execution_count": null,
   "metadata": {},
   "outputs": [],
   "source": [
    "# Add weights to the edges\n",
    "weight = 100\n",
    "sources = ['Tadirah']\n",
    "edges['Weight'] = 0\n",
    "more = True\n",
    "while more:\n",
    "    print (weight)\n",
    "    edges.loc[edges['Source'].isin(sources), 'Weight'] = weight\n",
    "    sources = edges.loc[edges['Source'].isin(sources), 'Target'].unique()\n",
    "    weight = int(weight / 2)\n",
    "    if len(sources) == 0:\n",
    "        more = False\n"
   ]
  },
  {
   "cell_type": "code",
   "execution_count": null,
   "metadata": {},
   "outputs": [],
   "source": [
    "sources = ['Tadirah']\n",
    "edges.loc[edges['Source'].isin(sources)]"
   ]
  },
  {
   "cell_type": "code",
   "execution_count": null,
   "metadata": {},
   "outputs": [],
   "source": [
    "edges.sort_values('Weight', ascending=False)"
   ]
  },
  {
   "cell_type": "code",
   "execution_count": null,
   "metadata": {},
   "outputs": [],
   "source": [
    "nodes_left = edges[['Source', 'Weight']].copy().rename(columns={'Source': 'Id'})\n",
    "nodes_right = edges[['Target', 'Weight']].copy().rename(columns={'Target': 'Id'})\n",
    "nodes_right['Weight'] = nodes_right['Weight'].apply(lambda x: int(x/2))\n",
    "nodes = pd.concat([nodes_left, nodes_right])\n",
    "nodes = nodes.sort_values('Weight', ascending=False).drop_duplicates('Id')\n",
    "nodes['Label'] = nodes['Id']\n",
    "nodes = nodes.drop_duplicates()\n",
    "nodes = nodes[['Id', 'Label', 'Weight']]"
   ]
  },
  {
   "cell_type": "code",
   "execution_count": null,
   "metadata": {},
   "outputs": [],
   "source": [
    "edges.to_csv('../00_shared_data/Tadirah/tadirah_edges.csv', index=False, sep='\\t')\n",
    "nodes.to_csv('../00_shared_data/Tadirah/tadirah_nodes.csv', index=False, sep='\\t')"
   ]
  },
  {
   "cell_type": "code",
   "execution_count": null,
   "metadata": {},
   "outputs": [],
   "source": [
    "# create a graphviz visualization of edges\n",
    "from graphviz import Digraph\n",
    "\n",
    "dot = Digraph(comment='Tadirah')\n",
    "for i, row in edges.iterrows():\n",
    "    dot.edge(row['Source'], row['Target'])\n",
    "    \n",
    "# show graph in notebook\n",
    "dot.attr(rankdir='LR')\n",
    "dot.attr(size='10')\n",
    "dot.render('../00_shared_data/Tadirah/tadirah', format='png')\n",
    "dot\n"
   ]
  },
  {
   "cell_type": "code",
   "execution_count": null,
   "metadata": {},
   "outputs": [],
   "source": [
    "# create another visualization with the graphviz engine set to sfdp\n",
    "dot.engine = 'sfdp'\n",
    "dot.attr(rankdir='LR')\n",
    "dot.attr(size='10')\n",
    "dot.attr(overlap='false')\n",
    "dot.render('../00_shared_data/Tadirah/tadirah_graph_sfdp', format='png')\n",
    "dot\n",
    "\n"
   ]
  },
  {
   "cell_type": "code",
   "execution_count": null,
   "metadata": {},
   "outputs": [],
   "source": []
  }
 ],
 "metadata": {
  "kernelspec": {
   "display_name": "Python 3",
   "language": "python",
   "name": "python3"
  },
  "language_info": {
   "codemirror_mode": {
    "name": "ipython",
    "version": 3
   },
   "file_extension": ".py",
   "mimetype": "text/x-python",
   "name": "python",
   "nbconvert_exporter": "python",
   "pygments_lexer": "ipython3",
   "version": "3.12.3"
  }
 },
 "nbformat": 4,
 "nbformat_minor": 2
}
