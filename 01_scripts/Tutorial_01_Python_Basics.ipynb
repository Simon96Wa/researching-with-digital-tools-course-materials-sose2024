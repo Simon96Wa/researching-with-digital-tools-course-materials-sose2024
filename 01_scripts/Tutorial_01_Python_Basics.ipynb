{
 "cells": [
  {
   "cell_type": "markdown",
   "id": "aeb39b86-6805-4427-a5b7-9973321575e8",
   "metadata": {},
   "source": [
    "# Let's get started\n",
    "\n",
    "Jupyter Notebooks consist of cells that can be either \"Code\" cells, \"Markdown\" text cells (as this one is) or \"Raw\" cells. Code cells are interpreted as Python and executed once you press the play button or press ```shift+ENTER```. The shortcut executes the current cell and selects the next. By pressing ```alt+ENTER``` the current cell is executed and a new cell created afterwards. When a markdown cell is \"run\" the text is layouted according to the markup. Raw cells are left as is."
   ]
  },
  {
   "cell_type": "markdown",
   "id": "9828d479-8b56-4068-9434-cc360ff4e998",
   "metadata": {},
   "source": [
    "The ability to **combine executable code with regular text** notes is one of the reasons that makes Jupyter notebooks a great tool for research. In addition, notebooks **combine the benefits of live code execution** in the Python console with the **benefit that the code is saved** to a file and can thus be rerun over and over again."
   ]
  },
  {
   "cell_type": "code",
   "execution_count": null,
   "id": "79ca63ad-40e8-4bc4-b7e2-8bdbe7742415",
   "metadata": {},
   "outputs": [],
   "source": [
    "# The above two cells are Markdown. The first was executed and rendered while the second shows \"raw\" \n",
    "# markdown text. Markdown is a way of adding structural and layout instructions to text. \n",
    "# For example beginning a line with a # creates a level 1 headline. A level 2 headline is \n",
    "# created by two ## at the beginning of a line. In Python the # has a different meaning. \n",
    "# It indicates that the text following the # in the same line is treated as a comment\n",
    "# and not interpreted as Python code. That’s why this cell is valid Python code containing \n",
    "# only comments. Executing does not do anything besides incrementing the execution counter on \n",
    "# the left. The number indicates if and at what step the cell was executed, which is important \n",
    "# because you can move up and down through your code execution and rerun cells. "
   ]
  },
  {
   "cell_type": "code",
   "execution_count": null,
   "id": "b655cc19-6784-492c-9042-23dd66b54326",
   "metadata": {},
   "outputs": [],
   "source": [
    "Writing plain text without commenting it out and executing the cell most likely results in an error."
   ]
  },
  {
   "cell_type": "code",
   "execution_count": null,
   "id": "1b024ded-f08f-42f3-8850-188b384ed314",
   "metadata": {},
   "outputs": [],
   "source": [
    "# For correcting the above error you can enclose the sentence in single or double quotation marks. \n",
    "# These indicate that the eclosed charaters are a string. When executed Jupyter just outputs the string.\n",
    "\n",
    "'Writing plain text without commenting it out and executing the cell most likely results in an error.'"
   ]
  },
  {
   "cell_type": "markdown",
   "id": "06d20870-3772-40a8-9ec8-27ebae8d1c99",
   "metadata": {},
   "source": [
    "## Python Basics\n",
    "### Variables and Data Types"
   ]
  },
  {
   "cell_type": "code",
   "execution_count": null,
   "id": "eaccc1e6-b2c6-4950-9d7b-91dbb3b93a88",
   "metadata": {},
   "outputs": [],
   "source": [
    "# String : str\n",
    "a = 'This is a string.'\n",
    "print('The value of variable a is:')\n",
    "print(a)"
   ]
  },
  {
   "cell_type": "code",
   "execution_count": null,
   "id": "77635ef2-99e1-4189-9d92-0d17855bffe7",
   "metadata": {},
   "outputs": [],
   "source": [
    "# Integer : int\n",
    "b = 5\n",
    "print('The value of variable b is:')\n",
    "print(b)"
   ]
  },
  {
   "cell_type": "code",
   "execution_count": null,
   "id": "80ed65f4-d01b-4d44-a87c-a7cf468a55cc",
   "metadata": {},
   "outputs": [],
   "source": [
    "# Float : float\n",
    "c = 1.5\n",
    "print('The value of variable c is:')\n",
    "print(c)"
   ]
  },
  {
   "cell_type": "code",
   "execution_count": null,
   "id": "52d668fa-4cf8-430c-8abf-7e2e38f23ae0",
   "metadata": {},
   "outputs": [],
   "source": [
    "# List : list\n",
    "d = [a, b, c, 'another string', 11]\n",
    "print('The value of variable d is:')\n",
    "print(d)"
   ]
  },
  {
   "cell_type": "code",
   "execution_count": null,
   "id": "870ccbef-4f87-498b-99a8-19cc79a93776",
   "metadata": {},
   "outputs": [],
   "source": [
    "# Lists are collections of items you can access them by putting their index number in quare brakcets.\n",
    "# IMPORTANT: The count starts with 0. \n",
    "print(d[0])"
   ]
  },
  {
   "cell_type": "code",
   "execution_count": null,
   "id": "59deae7c-d709-436b-b415-08c310b1f48a",
   "metadata": {},
   "outputs": [],
   "source": [
    "# Dictionary : dict\n",
    "e = {\n",
    "    'a': a,\n",
    "    'b': b,\n",
    "    'c': c,\n",
    "    'd': d,\n",
    "    'e': 'a new value'\n",
    "}\n",
    "print(e)"
   ]
  },
  {
   "cell_type": "code",
   "execution_count": null,
   "id": "27e0d085-7545-4a80-8bc2-9f82dcb725d6",
   "metadata": {},
   "outputs": [],
   "source": [
    "# Dictionaries consits of ke value pair. You can access them by putting the key in square brackets:\n",
    "e['b']"
   ]
  },
  {
   "cell_type": "code",
   "execution_count": null,
   "id": "c5cadaf6-986e-4803-83f2-a94369bdec44",
   "metadata": {},
   "outputs": [],
   "source": [
    "# Boolean : bool\n",
    "f = True\n",
    "print(f)"
   ]
  },
  {
   "cell_type": "code",
   "execution_count": null,
   "id": "133b0851-4bc8-4554-ad2d-ca073145a0c5",
   "metadata": {},
   "outputs": [],
   "source": [
    "# For identifying the type of a variable you can use the type command.\n",
    "type(a)"
   ]
  },
  {
   "cell_type": "markdown",
   "id": "4f9191b0-9ceb-4efd-9636-ef0e97d1e1df",
   "metadata": {},
   "source": [
    "### Conditionals and Loops"
   ]
  },
  {
   "cell_type": "code",
   "execution_count": null,
   "id": "5fdccad1-f219-41d7-b2d5-9bf129af8f9b",
   "metadata": {},
   "outputs": [],
   "source": [
    "# Conditionals\n",
    "var = 3\n",
    "condition = 6\n",
    "if var < condition:\n",
    "    print(f'{var} is smaller than {condition}.')\n",
    "elif var < condition-1:\n",
    "    print('This print will never be executed. Because evaluation of conditionals stops ')\n",
    "    print('after the first True statement is found.')\n",
    "elif var == condition:\n",
    "    print(f'{var} is equal {condition}.')\n",
    "else:\n",
    "    print(f'{var} is bigger than {condition}.')"
   ]
  },
  {
   "cell_type": "code",
   "execution_count": null,
   "id": "c86248ec-705a-4866-aaf7-c9c04baa2954",
   "metadata": {},
   "outputs": [],
   "source": [
    "# Loops\n",
    "for i in d:\n",
    "    print(f'Variable {i} is of {type(i)}.')"
   ]
  },
  {
   "cell_type": "code",
   "execution_count": null,
   "id": "ed2f7bd6-747d-45d3-81df-69df5931fad7",
   "metadata": {},
   "outputs": [],
   "source": [
    "for i in e:\n",
    "    print(f'Dictionary key {i} is of {type(i)} and dictionary value {e[i]} is of {type(e[i])}.')"
   ]
  },
  {
   "cell_type": "markdown",
   "id": "9cfb07c7-abfc-466c-b29e-72a1a85db9f1",
   "metadata": {},
   "source": [
    "### Function Definitions and Call"
   ]
  },
  {
   "cell_type": "code",
   "execution_count": null,
   "id": "33ce9d4b-8c97-4044-afea-e1328267518e",
   "metadata": {},
   "outputs": [],
   "source": [
    "# A function that I commonly implement in my notebooks is the following two-liner that checks if\n",
    "# a path passed to the function exists on the hard drive and creates it in case it does not exist.\n",
    "# The function makes use of the os standard library that needs to be imported first.\n",
    "\n",
    "import os\n",
    "def check_path(path):\n",
    "    if not os.path.isdir(path):\n",
    "        os.makedirs(path)"
   ]
  },
  {
   "cell_type": "code",
   "execution_count": null,
   "id": "12b121bd-217c-42a3-81af-bf79337068e7",
   "metadata": {},
   "outputs": [],
   "source": [
    "# Once executed the function can be called with this simple Statement\n",
    "check_path('data')"
   ]
  },
  {
   "cell_type": "code",
   "execution_count": null,
   "id": "fa9a024b-03bf-4b94-b156-511e4c08cb02",
   "metadata": {},
   "outputs": [],
   "source": [
    "# And it can be used over and over again\n",
    "check_path('have')"
   ]
  },
  {
   "cell_type": "code",
   "execution_count": null,
   "id": "d2feaec2-0e50-4e5b-bf51-abd73db19643",
   "metadata": {},
   "outputs": [],
   "source": [
    "check_path('data')"
   ]
  },
  {
   "cell_type": "code",
   "execution_count": null,
   "id": "a1de34a6-219d-414e-99ae-69fa702456a2",
   "metadata": {},
   "outputs": [],
   "source": [
    "check_path('fun')"
   ]
  },
  {
   "cell_type": "code",
   "execution_count": null,
   "id": "4cf5bddf-5c47-4800-8334-9d1d77f8fbd0",
   "metadata": {},
   "outputs": [],
   "source": [
    "check_path('data')"
   ]
  },
  {
   "cell_type": "code",
   "execution_count": null,
   "id": "a43160b9-31e6-4e43-9a40-31528fed6c25",
   "metadata": {},
   "outputs": [],
   "source": [
    "check_path('fun')"
   ]
  },
  {
   "cell_type": "code",
   "execution_count": null,
   "id": "cf7bb730-6c81-47ca-988e-c18c96978612",
   "metadata": {},
   "outputs": [],
   "source": [
    "# lets clean the mess up we created on our hard drive.\n",
    "for i in ['data', 'have', 'fun']:\n",
    "    os.rmdir(i)"
   ]
  }
 ],
 "metadata": {
  "kernelspec": {
   "display_name": "Python 3 (ipykernel)",
   "language": "python",
   "name": "python3"
  },
  "language_info": {
   "codemirror_mode": {
    "name": "ipython",
    "version": 3
   },
   "file_extension": ".py",
   "mimetype": "text/x-python",
   "name": "python",
   "nbconvert_exporter": "python",
   "pygments_lexer": "ipython3",
   "version": "3.12.3"
  }
 },
 "nbformat": 4,
 "nbformat_minor": 5
}
