{
 "cells": [
  {
   "cell_type": "markdown",
   "metadata": {},
   "source": [
    "# Generate list of start URLs for gptstore.ai daily rankings\n",
    "\n",
    "The code below has automatically generated with copilot based on the descripitons in the comments at the beginning of each cell."
   ]
  },
  {
   "cell_type": "code",
   "execution_count": null,
   "metadata": {},
   "outputs": [],
   "source": [
    "# Generate a list of with datestrings starting Feb 7, 2024 and ending today. \n",
    "# The list should be in the format of 'YYYYMMDD'.\n",
    "\n",
    "import datetime\n",
    "\n",
    "today = datetime.date.today()\n",
    "start = datetime.date(2024, 2, 7)\n",
    "date_list = []\n",
    "\n",
    "while start <= today:\n",
    "    date_list.append(start.strftime('%Y%m%d'))\n",
    "    start += datetime.timedelta(days=1)\n",
    "\n",
    "print(date_list)"
   ]
  },
  {
   "cell_type": "code",
   "execution_count": null,
   "metadata": {},
   "outputs": [],
   "source": [
    "# Prepend each date in datelist the string \" https://gptstore.ai/gpts/rank?date=\" \n",
    "# and assign the resulting list to the variable urls.\n",
    "\n",
    "urls = [\"https://gptstore.ai/gpts/rank?date=\" + date for date in date_list]\n",
    "print(urls)"
   ]
  },
  {
   "cell_type": "code",
   "execution_count": null,
   "metadata": {},
   "outputs": [],
   "source": [
    "# Save the urls list to a file named Webscraper_gptstore.ai-daily-ranking-urls.txt in the json list format.\n",
    "\n",
    "import json\n",
    "\n",
    "with open('Webscraper_gptstore.ai-daily-ranking-urls.txt', 'w') as f:\n",
    "    json.dump(urls, f, indent=4)\n",
    "    #f.write(str(urls))\n",
    "\n",
    "#with open('Webscraper_gptstore.ai-daily-ranking-urls.txt', 'w') as f:\n",
    "#    f.write(str(urls))\n",
    "\n",
    "\n"
   ]
  },
  {
   "cell_type": "code",
   "execution_count": null,
   "metadata": {},
   "outputs": [],
   "source": []
  }
 ],
 "metadata": {
  "kernelspec": {
   "display_name": "Python 3",
   "language": "python",
   "name": "python3"
  },
  "language_info": {
   "codemirror_mode": {
    "name": "ipython",
    "version": 3
   },
   "file_extension": ".py",
   "mimetype": "text/x-python",
   "name": "python",
   "nbconvert_exporter": "python",
   "pygments_lexer": "ipython3",
   "version": "3.12.3"
  }
 },
 "nbformat": 4,
 "nbformat_minor": 2
}
